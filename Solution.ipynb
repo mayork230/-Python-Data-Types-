{
  "nbformat": 4,
  "nbformat_minor": 0,
  "metadata": {
    "colab": {
      "provenance": []
    },
    "kernelspec": {
      "name": "python3",
      "display_name": "Python 3"
    },
    "language_info": {
      "name": "python"
    }
  },
  "cells": [
    {
      "cell_type": "markdown",
      "source": [
        "Identify and print the type of different values using type()"
      ],
      "metadata": {
        "id": "2VA2V0dlrSE8"
      }
    },
    {
      "cell_type": "code",
      "execution_count": 4,
      "metadata": {
        "colab": {
          "base_uri": "https://localhost:8080/"
        },
        "id": "oaLBYnrFqFbp",
        "outputId": "219c4ad2-a573-4fdd-8cd5-d6abd9390896"
      },
      "outputs": [
        {
          "output_type": "execute_result",
          "data": {
            "text/plain": [
              "list"
            ]
          },
          "metadata": {},
          "execution_count": 4
        }
      ],
      "source": [
        "\n",
        "Names = [\"Mayowa\",\"Idowu\",\"Kehinde\",\"Abisola\"]\n",
        "type(Names)"
      ]
    },
    {
      "cell_type": "markdown",
      "source": [
        " Perform basic arithmetic operations using int and float."
      ],
      "metadata": {
        "id": "HbHlRfaNrW3a"
      }
    },
    {
      "cell_type": "code",
      "source": [
        "# Using Int\n",
        "MathematicsScore = int(50)\n",
        "EnglishScore = int(100)\n",
        "BiologySCore = int(150)\n",
        "TotalScore = MathematicsScore + EnglishScore + BiologySCore\n",
        "Difference_Math_English = MathematicsScore - EnglishScore\n",
        "Quotient_int_Math_English = MathematicsScore // EnglishScore\n",
        "Product_int_Math_English = MathematicsScore * EnglishScore\n",
        "print(f\"TotalScore: {TotalScore}\")\n",
        "print(f\"Difference_Math_English: {Difference_Math_English}\")\n",
        "print(f\"Quotient_int_Math_English: {Quotient_int_Math_English}\")\n",
        "print(f\"Product_int_Math_English: {Product_int_Math_English}\")\n",
        "\n",
        "\n",
        "\n"
      ],
      "metadata": {
        "colab": {
          "base_uri": "https://localhost:8080/"
        },
        "id": "gv94Bn5kqUah",
        "outputId": "5be46098-7e69-447b-e4f4-d73046d896a5"
      },
      "execution_count": 9,
      "outputs": [
        {
          "output_type": "stream",
          "name": "stdout",
          "text": [
            "TotalScore: 300\n",
            "Difference_Math_English: -50\n",
            "Quotient_int_Math_English: 0\n",
            "Product_int_Math_English: 5000\n"
          ]
        }
      ]
    },
    {
      "cell_type": "code",
      "source": [
        "#Using Floats\n",
        "# Using floats\n",
        "x = 10.0  # float\n",
        "y = 3.0   # float\n",
        "sum_float = x + y           # Addition\n",
        "difference_float = x - y    # Subtraction\n",
        "product_float = x * y       # Multiplication\n",
        "quotient_float = x / y      # Float division\n",
        "\n",
        "print(\"\\nFloat operations:\")\n",
        "print(f\"Sum: {sum_float}\")\n",
        "print(f\"Difference: {difference_float}\")\n",
        "print(f\"Product: {product_float}\")\n",
        "print(f\"Quotient: {quotient_float}\")"
      ],
      "metadata": {
        "colab": {
          "base_uri": "https://localhost:8080/"
        },
        "id": "LvDRNqcmq4yN",
        "outputId": "4438b1bc-d737-4bde-b632-75ae3c210fb6"
      },
      "execution_count": 10,
      "outputs": [
        {
          "output_type": "stream",
          "name": "stdout",
          "text": [
            "\n",
            "Float operations:\n",
            "Sum: 13.0\n",
            "Difference: 7.0\n",
            "Product: 30.0\n",
            "Quotient: 3.3333333333333335\n"
          ]
        }
      ]
    },
    {
      "cell_type": "markdown",
      "source": [
        "Convert between different numeric types using int() and float()."
      ],
      "metadata": {
        "id": "0-cA-WZJtSKq"
      }
    },
    {
      "cell_type": "code",
      "source": [
        "# Convert float into int\n",
        "x = 50.23432\n",
        "print(int(x))"
      ],
      "metadata": {
        "colab": {
          "base_uri": "https://localhost:8080/"
        },
        "id": "OBxkcl1wtGbW",
        "outputId": "4e8b127a-f924-4209-f3d0-b8949e006a70"
      },
      "execution_count": 12,
      "outputs": [
        {
          "output_type": "stream",
          "name": "stdout",
          "text": [
            "50\n"
          ]
        }
      ]
    },
    {
      "cell_type": "code",
      "source": [
        "# Convert int into float\n",
        "x = 50\n",
        "print(float(x))\n"
      ],
      "metadata": {
        "colab": {
          "base_uri": "https://localhost:8080/"
        },
        "id": "IGqiEsWKteT5",
        "outputId": "c64c2c57-472c-4ae9-9203-598ea2f18820"
      },
      "execution_count": 13,
      "outputs": [
        {
          "output_type": "stream",
          "name": "stdout",
          "text": [
            "50.0\n"
          ]
        }
      ]
    },
    {
      "cell_type": "markdown",
      "source": [
        "Use String methods to manupulate text"
      ],
      "metadata": {
        "id": "v3QEOcPMukZA"
      }
    },
    {
      "cell_type": "code",
      "source": [
        "text = \"hello world\"\n",
        "formatted_text = text.upper()\n",
        "capatizedsentence = text.capitalize()\n",
        "replaced_text = text.replace(\"world\", \"Python\")\n",
        "print(\"Uppercase:\", replaced_text)\n",
        "print(f\"Capitalize: {capatizedsentence}\")\n",
        "print(f\"Replace: {formatted_text}\")\n",
        "name = \"Mayowa\"\n",
        "age = 24\n",
        "print(f\"My name is {name} and I am {age} years old.\")"
      ],
      "metadata": {
        "colab": {
          "base_uri": "https://localhost:8080/"
        },
        "id": "b6J00fiPuWdt",
        "outputId": "6cb16eeb-91c2-45ed-a010-8688a607c96d"
      },
      "execution_count": 18,
      "outputs": [
        {
          "output_type": "stream",
          "name": "stdout",
          "text": [
            "Uppercase: hello Python\n",
            "Capitalize: Hello world\n",
            "Replace: HELLO WORLD\n",
            "My name is Mayowa and I am 24 years old.\n"
          ]
        }
      ]
    },
    {
      "cell_type": "markdown",
      "source": [
        "Create a list, access elements using indexing and slicing, and\n",
        "perform list operations (append, remove, pop, sort, reverse)"
      ],
      "metadata": {
        "id": "frDp4mh1wJmB"
      }
    },
    {
      "cell_type": "code",
      "source": [
        "# Create a list\n",
        "Fruits =[\"Mango\", \"PawPaw\", \"Apple\", \"Banana\", \"Cashew\", \"Cherry\"]\n",
        "\n",
        "# Indexing\n",
        "First_Fruit = Fruits[0]\n",
        "\n",
        "# Slicing\n",
        "Fruits_Sublist = Fruits[2:5]\n",
        "\n",
        "print(\"First Fruit:\", First_Fruit)\n",
        "print(\"Fruits Sublist:\", Fruits_Sublist)\n",
        "\n",
        "#Sort\n",
        "Fruits.sort(reverse=True)\n",
        "print(\"Sorted_desc:\",Fruits)\n",
        "\n",
        "# Append\n",
        "New_FruitList = Fruits.append(\"Pineapple\")\n",
        "print(\"NewList:\", Fruits)\n",
        "\n",
        "# Reverse\n",
        "Reverse = Fruits.reverse()\n",
        "print(\"Reverse:\", Fruits)"
      ],
      "metadata": {
        "colab": {
          "base_uri": "https://localhost:8080/"
        },
        "id": "OIR7WkxVvS6z",
        "outputId": "1fae783d-26db-46b2-fe98-43b5e4a8091f"
      },
      "execution_count": 28,
      "outputs": [
        {
          "output_type": "stream",
          "name": "stdout",
          "text": [
            "First Fruit: Mango\n",
            "Fruits Sublist: ['Apple', 'Banana', 'Cashew']\n",
            "Sorted_desc: ['PawPaw', 'Mango', 'Cherry', 'Cashew', 'Banana', 'Apple']\n",
            "NewList: ['PawPaw', 'Mango', 'Cherry', 'Cashew', 'Banana', 'Apple', 'Pineapple']\n",
            "Reverse: ['Pineapple', 'Apple', 'Banana', 'Cashew', 'Cherry', 'Mango', 'PawPaw']\n"
          ]
        }
      ]
    },
    {
      "cell_type": "markdown",
      "source": [
        "Create a Tuple, Access Elements, and Demonstrate Tuple Immutability"
      ],
      "metadata": {
        "id": "HxaX_bBh1Tym"
      }
    },
    {
      "cell_type": "code",
      "source": [
        "# Create a tuple\n",
        "my_tuple = (1, 2, 3, 4, 5)\n",
        "\n",
        "# Access elements\n",
        "first_element = my_tuple[0]\n",
        "last_element = my_tuple[-1]\n",
        "\n",
        "print(\"First Element:\", first_element)\n",
        "print(\"Last Element:\", last_element)\n",
        "\n",
        "# Demonstrating Immutability\n",
        "try:\n",
        "  my_tuple[0] = 10  # This will raise an error because tuples are immutable\n",
        "except TypeError as e:\n",
        "  print(\"Error:\", e)"
      ],
      "metadata": {
        "colab": {
          "base_uri": "https://localhost:8080/"
        },
        "id": "rRcKn0Lyy369",
        "outputId": "228cea53-2030-4996-86c4-2fa916e69fc5"
      },
      "execution_count": 31,
      "outputs": [
        {
          "output_type": "stream",
          "name": "stdout",
          "text": [
            "First Element: 1\n",
            "Last Element: 5\n",
            "Error: 'tuple' object does not support item assignment\n"
          ]
        }
      ]
    },
    {
      "cell_type": "code",
      "source": [],
      "metadata": {
        "id": "kolgC-dA1iE8"
      },
      "execution_count": null,
      "outputs": []
    }
  ]
}